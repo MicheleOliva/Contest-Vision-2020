{
  "nbformat": 4,
  "nbformat_minor": 0,
  "metadata": {
    "colab": {
      "name": "Prova MobileNet V3 Keras",
      "provenance": [],
      "collapsed_sections": []
    },
    "kernelspec": {
      "name": "python3",
      "display_name": "Python 3"
    }
  },
  "cells": [
    {
      "cell_type": "code",
      "metadata": {
        "id": "2vwuYM5-BcfW",
        "colab": {
          "base_uri": "https://localhost:8080/"
        },
        "outputId": "44f18db3-735a-4167-a8d4-3840c205530e"
      },
      "source": [
        "from tensorflow.keras.applications import MobileNetV3Large\n",
        "from keras import Model, Sequential\n",
        "from keras.utils import plot_model\n",
        "#from keras.applications.mobilenet_v3 import preprocess_input\n",
        "\n",
        "classifier_activation = 'relu'\n",
        "weights = 'imagenet'\n",
        "classes = 1\n",
        "input_shape = (96, 96, 3)\n",
        "alpha = 1.0\n",
        "\n",
        "m1 = MobileNetV3Large(input_shape=input_shape, alpha=alpha, weights=weights, include_top=False)\n",
        "m2 = MobileNetV3Large(input_shape=input_shape, alpha=alpha, classes=classes, weights=None, classifier_activation=classifier_activation)\n",
        "\n",
        "model = Sequential()\n",
        "model.add(m1)\n",
        "\n",
        "for i in range(-6, 0):\n",
        "  layer = m2.get_layer(index=i)\n",
        "  model.add(layer)\n",
        "\n",
        "model.layers[-1]\n",
        "\n",
        "m1 = None\n",
        "m2 = None"
      ],
      "execution_count": null,
      "outputs": [
        {
          "output_type": "stream",
          "text": [
            "WARNING:tensorflow:`input_shape` is undefined or non-square, or `rows` is not 224. Weights for input shape (224, 224) will be loaded as the default.\n",
            "Downloading data from https://storage.googleapis.com/tensorflow/keras-applications/mobilenet_v3/weights_mobilenet_v3_large_224_1.0_float_no_top.h5\n",
            "17612800/17605208 [==============================] - 0s 0us/step\n"
          ],
          "name": "stdout"
        }
      ]
    },
    {
      "cell_type": "code",
      "metadata": {
        "id": "-_4MTgg5PfH2",
        "colab": {
          "base_uri": "https://localhost:8080/",
          "height": 1000
        },
        "outputId": "a12939af-905a-43db-e7e7-ec9964431862"
      },
      "source": [
        "model.summary()\n",
        "plot_model(model)"
      ],
      "execution_count": null,
      "outputs": [
        {
          "output_type": "stream",
          "text": [
            "Model: \"sequential\"\n",
            "_________________________________________________________________\n",
            "Layer (type)                 Output Shape              Param #   \n",
            "=================================================================\n",
            "MobilenetV3large (Functional (None, 3, 3, 1280)        4226432   \n",
            "_________________________________________________________________\n",
            "global_average_pooling2d (Gl (None, 1280)              0         \n",
            "_________________________________________________________________\n",
            "reshape_16 (Reshape)         (None, 1, 1, 1280)        0         \n",
            "_________________________________________________________________\n",
            "dropout (Dropout)            (None, 1, 1, 1280)        0         \n",
            "_________________________________________________________________\n",
            "Logits (Conv2D)              (None, 1, 1, 1)           1281      \n",
            "_________________________________________________________________\n",
            "flatten (Flatten)            (None, 1)                 0         \n",
            "_________________________________________________________________\n",
            "Predictions (Activation)     (None, 1)                 0         \n",
            "=================================================================\n",
            "Total params: 4,227,713\n",
            "Trainable params: 4,203,313\n",
            "Non-trainable params: 24,400\n",
            "_________________________________________________________________\n"
          ],
          "name": "stdout"
        },
        {
          "output_type": "execute_result",
          "data": {
            "image/png": "[encoded data removed]",
            "text/plain": [
              "<IPython.core.display.Image object>"
            ]
          },
          "metadata": {
            "tags": []
          },
          "execution_count": 11
        }
      ]
    },
    {
      "cell_type": "code",
      "metadata": {
        "id": "wDfBh2BCBEot"
      },
      "source": [
        "### COSE UTILI\n",
        "\n",
        "MODEL_NAME = f\"MNV3L_{input_shape[0]}x{input_shape[1]}_c{classes}_a{alpha}_{weights}\"\n",
        "BASE_PATH = '/content/drive/Shareddrives/Progettone\\ Importante/Age\\ Estimation/Training/'"
      ],
      "execution_count": null,
      "outputs": []
    },
    {
      "cell_type": "code",
      "metadata": {
        "id": "ANPfvKGTld0a"
      },
      "source": [
        "from keras.losses import MeanSquaredError\n",
        "from keras.optimizers import Adam\n",
        "from keras.metrics import MeanAbsoluteError\n",
        "\n",
        "optimizer = Adam()\n",
        "loss = MeanSquaredError()\n",
        "metrics = [ MeanAbsoluteError(name='mae') ]\n",
        "\n",
        "model.compile(optimizer=optimizer, loss=loss, metrics=metrics)"
      ],
      "execution_count": null,
      "outputs": []
    },
    {
      "cell_type": "code",
      "metadata": {
        "id": "Q-bbBF_0-_e9"
      },
      "source": [
        "# DEFINISCI GENERATORI QUA\n",
        "\n",
        "train_generator = None\n",
        "eval_generator = None\n",
        "test_generator = None"
      ],
      "execution_count": null,
      "outputs": []
    },
    {
      "cell_type": "code",
      "metadata": {
        "id": "wlsDtAntuPuG"
      },
      "source": [
        "from keras.callbacks import ModelCheckpoint, EarlyStopping, CSVLogger, ReduceLROnPlateau\n",
        "from datetime import datetime\n",
        "import os\n",
        "import pickle\n",
        "\n",
        "batch_size = 24\n",
        "training_epochs = 100\n",
        "initial_epoch = 0\n",
        "\n",
        "min_delta = 0.1 # Quanto deve scendere il mae per esser considerato migliorato\n",
        "monitor = 'mae' # CONTROLLARE SE QUESTO NOME VA BENE!!!\n",
        "mode = 'auto' # Controllare che funzioni, ossia il mae deve scendere per essere considerato migliorato\n",
        "factor = 0.2 # lr = lr * factor\n",
        "patience_lr = 2 # Cambiare in base alla lunghezza dell'epoca\n",
        "patience_stop = 5\n",
        "\n",
        "os.chdir(BASE_PATH)\n",
        "datetime = datetime.today().strftime('%Y%m%d_%H%M%S')\n",
        "dirnm = f\"{datetime}_{MODEL_NAME}\"\n",
        "os.mkdir(dirnm)\n",
        "os.chdir(dirnm)\n",
        "\n",
        "logger = CSVLogger(f'{dirnm}_training.log', append=False)\n",
        "\n",
        "reduce_lr_plateau= ReduceLROnPlateau(monitor=monitor, \n",
        "                                     factor=factor, \n",
        "                                     mode=mode, \n",
        "                                     verbose=1, \n",
        "                                     patience=patience_lr, \n",
        "                                     cooldown=1, \n",
        "                                     min_delta=min_delta)\n",
        "\n",
        "early_stopping = EarlyStopping(patience=patience_stop, \n",
        "                               verbose=1, \n",
        "                               restore_best_weights=True, \n",
        "                               monitor=monitor, \n",
        "                               mode=mode, \n",
        "                               min_delta=min_delta)\n",
        "\n",
        "model_checkpoint = ModelCheckpoint(dirnm, \n",
        "                                   verbose=1, \n",
        "                                   save_weights_only=False,\n",
        "                                   save_best_only=True, \n",
        "                                   monitor=monitor, \n",
        "                                   mode=mode)\n",
        "\n",
        "history = model.fit_generator(train_generator, \n",
        "                              validation_data=eval_generator, \n",
        "                              initial_epoch=initial_epoch,\n",
        "                              epochs=training_epochs, \n",
        "                              callbacks=[model_checkpoint, \n",
        "                                         early_stopping, \n",
        "                                         logger, \n",
        "                                         reduce_lr_plateau])\n",
        "\n",
        "\n",
        "with open(f\"{dir}_training_history\", 'wb') as f:\n",
        "  print(\"Saving history.\")\n",
        "  pickle.dump(history, f)\n",
        "\n",
        "model.save(f\"{dir}_end\")"
      ],
      "execution_count": null,
      "outputs": []
    }
  ]
}